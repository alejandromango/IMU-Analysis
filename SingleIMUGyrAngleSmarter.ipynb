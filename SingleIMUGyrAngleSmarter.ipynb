{
 "cells": [
  {
   "cell_type": "code",
   "execution_count": 655,
   "metadata": {},
   "outputs": [],
   "source": [
    "import numpy\n",
    "numpy.seterr(divide='warn')\n",
    "import pandas\n",
    "from tkinter import Tk\n",
    "from tkinter.filedialog import askdirectory\n",
    "import seaborn\n",
    "import matplotlib.pyplot as plt\n",
    "from vqf import VQF"
   ]
  },
  {
   "cell_type": "code",
   "execution_count": 656,
   "metadata": {},
   "outputs": [
    {
     "name": "stdout",
     "output_type": "stream",
     "text": [
      "/Users/alex/Library/Mobile Documents/com~apple~CloudDocs/School/Masters/BME_207/Term Project/IMU Analysis/ForeArmReal20221111\n",
      "/Users/alex/Library/Mobile Documents/com~apple~CloudDocs/School/Masters/BME_207/Term Project/IMU Analysis/ArmReal20221111\n"
     ]
    },
    {
     "name": "stderr",
     "output_type": "stream",
     "text": [
      "/var/folders/6b/1zwtp83s1b93_8j_qjyxh2b00000gn/T/ipykernel_60310/3920983414.py:27: DeprecationWarning: `np.int` is a deprecated alias for the builtin `int`. To silence this warning, use `int` by itself. Doing this will not modify any behavior and is safe. When replacing `np.int`, you may wish to use e.g. `np.int64` or `np.int32` to specify the precision. If you wish to review your current use, check the release note link for additional information.\n",
      "Deprecated in NumPy 1.20; for more details and guidance: https://numpy.org/devdocs/release/1.20.0-notes.html#deprecations\n",
      "  for i in range(numpy.int(numpy.max(timeVForeG))):\n",
      "/var/folders/6b/1zwtp83s1b93_8j_qjyxh2b00000gn/T/ipykernel_60310/3920983414.py:32: DeprecationWarning: `np.int` is a deprecated alias for the builtin `int`. To silence this warning, use `int` by itself. Doing this will not modify any behavior and is safe. When replacing `np.int`, you may wish to use e.g. `np.int64` or `np.int32` to specify the precision. If you wish to review your current use, check the release note link for additional information.\n",
      "Deprecated in NumPy 1.20; for more details and guidance: https://numpy.org/devdocs/release/1.20.0-notes.html#deprecations\n",
      "  for i in range(numpy.int(numpy.max(timeVArmG))):\n",
      "/var/folders/6b/1zwtp83s1b93_8j_qjyxh2b00000gn/T/ipykernel_60310/3920983414.py:52: DeprecationWarning: `np.int` is a deprecated alias for the builtin `int`. To silence this warning, use `int` by itself. Doing this will not modify any behavior and is safe. When replacing `np.int`, you may wish to use e.g. `np.int64` or `np.int32` to specify the precision. If you wish to review your current use, check the release note link for additional information.\n",
      "Deprecated in NumPy 1.20; for more details and guidance: https://numpy.org/devdocs/release/1.20.0-notes.html#deprecations\n",
      "  for i in range(numpy.int(numpy.max(timeVForeA))):\n",
      "/var/folders/6b/1zwtp83s1b93_8j_qjyxh2b00000gn/T/ipykernel_60310/3920983414.py:57: DeprecationWarning: `np.int` is a deprecated alias for the builtin `int`. To silence this warning, use `int` by itself. Doing this will not modify any behavior and is safe. When replacing `np.int`, you may wish to use e.g. `np.int64` or `np.int32` to specify the precision. If you wish to review your current use, check the release note link for additional information.\n",
      "Deprecated in NumPy 1.20; for more details and guidance: https://numpy.org/devdocs/release/1.20.0-notes.html#deprecations\n",
      "  for i in range(numpy.int(numpy.max(timeVArmA))):\n"
     ]
    }
   ],
   "source": [
    "# Get directories for IMU data\n",
    "forearmPath = \"/Users/alex/Library/Mobile Documents/com~apple~CloudDocs/School/Masters/BME_207/Term Project/IMU Analysis/ForeArmReal20221111\"#askdirectory(title='Select Folder Containing Forearm Data') # shows dialog box and return the path\n",
    "print(forearmPath)\n",
    "armPath = \"/Users/alex/Library/Mobile Documents/com~apple~CloudDocs/School/Masters/BME_207/Term Project/IMU Analysis/ArmReal20221111\"#askdirectory(title='Select Folder Containing Arm Data') # shows dialog box and return the path\n",
    "print(armPath)\n",
    "foreArmGData = pandas.read_csv(\"{}/Gyroscope.csv\".format(forearmPath))\n",
    "armGData = pandas.read_csv(\"{}/Gyroscope.csv\".format(armPath))\n",
    "foreArmAData = pandas.read_csv(\"{}/Accelerometer.csv\".format(forearmPath))\n",
    "armAData = pandas.read_csv(\"{}/Accelerometer.csv\".format(armPath))\n",
    "# Truncate data to have same number of samples (temporary with contrived data)\n",
    "minDataLength = min([len(armGData), len(foreArmGData), len(armAData), len(foreArmAData)])\n",
    "foreArmGData = foreArmGData[:minDataLength]\n",
    "armGData = armGData[:minDataLength]\n",
    "foreArmAData = foreArmAData[:minDataLength]\n",
    "armAData = armAData[:minDataLength]\n",
    "# Initialize gyroscope data array(g1, g2) (2 arrays with # rows equal to # sample and each row [x, y, z])\n",
    "gDataRaw = numpy.array([numpy.stack([foreArmGData['X (rad/s)'].values, foreArmGData['Y (rad/s)'].values, foreArmGData['Z (rad/s)'].values], 1),\\\n",
    "                    numpy.stack([armGData['X (rad/s)'].values, armGData['Y (rad/s)'].values, armGData['Z (rad/s)'].values], 1)])\n",
    "# Number of samples a second to resample data at and valiue in Hz\n",
    "reSamples = 15.0\n",
    "reSampleRate = 1.0/reSamples\n",
    "# Calculate new time vectors with sample grouping between samples in seconds\n",
    "timeVForeG = numpy.floor((foreArmGData['Time (s)'].values/reSampleRate))\n",
    "timeVArmG = numpy.floor((armGData['Time (s)'].values/reSampleRate))\n",
    "#create new data arrays with same timebase\n",
    "gFore = []\n",
    "for i in range(numpy.int32(numpy.max(timeVForeG))):\n",
    "    newRow1 = numpy.mean(gDataRaw[0][numpy.where(timeVForeG == i)], axis=0)\n",
    "    gFore.append(list(newRow1))\n",
    "gFore = numpy.array(gFore)\n",
    "gArm = []\n",
    "for i in range(numpy.int32(numpy.max(timeVArmG))):\n",
    "    newRow2 = numpy.mean(gDataRaw[1][numpy.where(timeVForeG == i)], axis=0)\n",
    "    gArm.append(numpy.array(newRow2))\n",
    "gArm = numpy.array(gArm)\n",
    "minLen = min([len(gArm), len(gFore)])\n",
    "gFore = gFore[:minLen]\n",
    "gArm = gArm[:minLen]\n",
    "gData = numpy.array([numpy.array(gFore), numpy.array(gArm)])\n",
    "\n",
    "# Initialize accelerometer data array (a1, a1) (2 arrays with # rows equal to # samples and each row [x, y, z])\n",
    "aDataRaw = numpy.array([numpy.stack([foreArmAData['X (m/s^2)'].values, foreArmAData['Y (m/s^2)'].values, foreArmAData['Z (m/s^2)'].values], 1),\\\n",
    "                    numpy.stack([armAData['X (m/s^2)'].values, armAData['Y (m/s^2)'].values, armAData['Z (m/s^2)'].values], 1)])\n",
    "# Number of samples a second to resample data at and valiue in Hz\n",
    "reSamples = 15.0\n",
    "reSampleRate = 1.0/reSamples\n",
    "# Calculate new time vectors with sample grouping between samples in seconds\n",
    "timeVForeA = numpy.floor((foreArmAData['Time (s)'].values/reSampleRate))\n",
    "timeVArmA = numpy.floor((armAData['Time (s)'].values/reSampleRate))\n",
    "#create new data arrays with same timebase\n",
    "aFore = []\n",
    "for i in range(numpy.int32(numpy.max(timeVForeA))):\n",
    "    newRow1 = numpy.mean(aDataRaw[0][numpy.where(timeVForeA == i)], axis=0)\n",
    "    aFore.append(list(newRow1))\n",
    "aFore = numpy.array(gFore)\n",
    "aArm = []\n",
    "for i in range(numpy.int32(numpy.max(timeVArmA))):\n",
    "    newRow2 = numpy.mean(aDataRaw[1][numpy.where(timeVForeA == i)], axis=0)\n",
    "    aArm.append(numpy.array(newRow2))\n",
    "aArm = numpy.array(aArm)\n",
    "minLen = min([len(aArm), len(aFore)])\n",
    "aFore = aFore[:minLen]\n",
    "aArm = aArm[:minLen]\n",
    "aData = numpy.array([numpy.array(aFore), numpy.array(aArm)])"
   ]
  },
  {
   "cell_type": "code",
   "execution_count": null,
   "metadata": {},
   "outputs": [],
   "source": [
    "# Playing with quaternions"
   ]
  },
  {
   "cell_type": "code",
   "execution_count": null,
   "metadata": {},
   "outputs": [],
   "source": [
    "corr = numpy.correlate(gArm[:,0] - numpy.mean(gArm[:,0]), gFore[:,0] - numpy.mean(gFore[:,0]), mode='full')\n",
    "lag = corr.argmax() - (len(gArm[:,0]) - 1)\n",
    "print(lag)\n",
    "plt.plot(corr)\n",
    "plt.show()\n",
    "print(lag)\n",
    "plt.plot(gArm[lag:,0] - numpy.mean(gArm[:,0]), 'r-')\n",
    "plt.plot(gFore[:-lag,0] - numpy.mean(gFore[:,0]), 'b-')\n",
    "plt.show()\n",
    "gArm = gArm[lag:]\n",
    "gFore = gFore[:-lag]\n",
    "gData = numpy.array([numpy.array(gFore[:]), numpy.array(gArm[:])])"
   ]
  },
  {
   "cell_type": "code",
   "execution_count": null,
   "metadata": {},
   "outputs": [],
   "source": [
    "# Calculate time delta between samples in seconds\n",
    "deltat = reSampleRate#numpy.average(numpy.diff(foreArmGData['Time (s)'].values))\n",
    "# Calculate angle moved for each time step by integrating gyroscope data over time\n",
    "angleSteps = gData * deltat\n",
    "angleData = numpy.cumsum(angleSteps, axis=1)\n",
    "degreeData = numpy.rad2deg(angleData)\n",
    "seaborn.set(style=\"darkgrid\")\n",
    "a = seaborn.lineplot(data=degreeData[0])"
   ]
  },
  {
   "cell_type": "code",
   "execution_count": null,
   "metadata": {},
   "outputs": [],
   "source": [
    "\n",
    "b = seaborn.lineplot(data=degreeData[1])"
   ]
  },
  {
   "cell_type": "code",
   "execution_count": null,
   "metadata": {},
   "outputs": [],
   "source": [
    "def getJEst(aEst):\n",
    "    j1Est = numpy.array([numpy.cos(aEst[0][1])*numpy.cos(aEst[0][2]), numpy.cos(aEst[0][1])*numpy.sin(aEst[0][2]), numpy.sin(aEst[0][1])])\n",
    "    j2Est = numpy.array([numpy.cos(aEst[1][1])*numpy.cos(aEst[1][2]), numpy.cos(aEst[1][1])*numpy.sin(aEst[1][2]), numpy.sin(aEst[1][1])])\n",
    "    return numpy.array([j1Est, j2Est])\n",
    "\n",
    "\n",
    "# Vector of angle and azimuth values for such that theta unit vector is parallel to x axis, perp to z and y (x axis is hinge axis)\n",
    "aaVec = numpy.random.rand(2, 3)*numpy.pi*2#numpy.array([[1, numpy.rand, 0.2], [1, 0.1, 0.6]])\n",
    "aaVec[0,0] = 1\n",
    "aaVec[1,0] = 1\n",
    "jEst = getJEst(aaVec)\n",
    "aRates = numpy.dot(gData[0], jEst[0])\n",
    "aAngles = aRates * deltat\n",
    "aData = numpy.cumsum(aAngles)\n",
    "degreeAData = numpy.rad2deg(aData)\n",
    "a = seaborn.lineplot(data=[degreeAData, degreeData[0].T[0]])\n"
   ]
  },
  {
   "cell_type": "code",
   "execution_count": null,
   "metadata": {},
   "outputs": [],
   "source": [
    "def getGJacobian(j, g):\n",
    "\n",
    "    numerator1 = numpy.cross(numpy.cross(g[0], j[0]), g[0])\n",
    "    denominator1 = numpy.linalg.norm(numpy.cross(g[0], j[0]), axis=1)\n",
    "    grad1 = numpy.divide(numerator1.T, denominator1)\n",
    "    numerator2 = numpy.cross(numpy.cross(g[1], j[1]), g[1])\n",
    "    denominator2 = numpy.linalg.norm(numpy.cross(g[1], j[1]), axis=1)\n",
    "    grad2 = numpy.divide(numerator2.T, denominator2)\n",
    "    return(numpy.array([grad1.T, grad2.T]))\n",
    "\n",
    "def getGErrorVector(j, g):\n",
    "    left = numpy.linalg.norm(numpy.cross(j[0], g[0]), axis=1)\n",
    "    right = numpy.linalg.norm(numpy.cross(j[1], g[1]), axis=1)\n",
    "    errs = left - right\n",
    "    return(errs)\n",
    "    \n",
    "# Get error vector\n",
    "jEstimates = []\n",
    "squares = []\n",
    "for j in range(1):\n",
    "    for i in range(10):\n",
    "        gErrors = getGErrorVector(jEst, gData)\n",
    "        sumS = numpy.sum(gErrors**2)\n",
    "        # if (sumS < 50) & (i > 10):\n",
    "        #     print(i)\n",
    "        #     break\n",
    "        # print(sumS)\n",
    "        # Calculate Jacobian\n",
    "        gJacobian = getGJacobian(jEst, gData)\n",
    "        errJ = gJacobian[0] - gJacobian[1]\n",
    "        # Calculate pseudoinverce\n",
    "        gPseudoinverse = numpy.linalg.pinv(gJacobian)\n",
    "        a = numpy.dot(gPseudoinverse, gErrors)\n",
    "        # jEst = jEst - a\n",
    "        aaVec = aaVec - a\n",
    "        jEst = getJEst(aaVec)\n",
    "        squares.append(sumS)\n",
    "    jEstimates.append(jEst)\n",
    "\n",
    "jEstimates = numpy.array(jEstimates)\n",
    "# fig = plt.figure()\n",
    "# ax = fig.add_subplot(111, projection = '3d')\n",
    "# ax.scatter(jEstimates[:, 0, 0], jEstimates[:, 0, 1], jEstimates[:, 0, 2])\n",
    "seaborn.lineplot(squares)\n"
   ]
  },
  {
   "cell_type": "code",
   "execution_count": null,
   "metadata": {},
   "outputs": [],
   "source": [
    "\n",
    "aRates1 = numpy.dot(gData[0], jEst[0])\n",
    "aRates2 = numpy.dot(gData[1], jEst[1])\n",
    "aAngles = (aRates1-aRates2) * deltat\n",
    "aData = numpy.cumsum(aAngles)\n",
    "degreeAData = numpy.rad2deg(aData)\n",
    "seaborn.lineplot(data=[degreeAData, degreeData[0].T[0]])"
   ]
  }
 ],
 "metadata": {
  "kernelspec": {
   "display_name": "Python 3.10.7 64-bit",
   "language": "python",
   "name": "python3"
  },
  "language_info": {
   "codemirror_mode": {
    "name": "ipython",
    "version": 3
   },
   "file_extension": ".py",
   "mimetype": "text/x-python",
   "name": "python",
   "nbconvert_exporter": "python",
   "pygments_lexer": "ipython3",
   "version": "3.10.7"
  },
  "orig_nbformat": 4,
  "vscode": {
   "interpreter": {
    "hash": "aee8b7b246df8f9039afb4144a1f6fd8d2ca17a180786b69acc140d282b71a49"
   }
  }
 },
 "nbformat": 4,
 "nbformat_minor": 2
}
